{
 "cells": [
  {
   "cell_type": "markdown",
   "id": "2da7d36e",
   "metadata": {},
   "source": [
    "In this script, the data needed for the network analysis of the show South Park are generated. These are:  \n",
    " - The characters\n",
    " - The scripts, split in scenes, for each episode  \n",
    " \n",
    "The analysis is based on relationships between the characters, as they are built between the scenes of each episode. To this end, the following actions are required:  \n",
    " - Get the scripts for each episode from each season. The Wiki Fandom website is used.\n",
    " - From each script, get the characters, what they are saying, as well as the scenes, to be used as separators. This is needed because an episode might be consisting of parallel stories, with different character interactions. We want to create relationships between characters that are in the same scenes, not only because they appear in an episode.\n",
    " \n",
    "From the above gathered data, the unique characters list can be built. Moreover, after some formatting for later use, the scripts are also available to be used for sentiment and other text based analysis.  \n",
    "\n",
    "The character names can be aquired via 2 ways:  \n",
    "1. From the beginning of the dialogue in the script. This is the most obvious way.\n",
    "2. Taking advantage of the wiki website, that lists all the characters in a single episode in the beginning of a script page.  \n",
    "\n",
    "However, this second way uses the full names, as a result further analysis will be required to match the characters to the names in the scripts. As a result, the first method will be used."
   ]
  },
  {
   "cell_type": "code",
   "execution_count": 9,
   "id": "1db5bf62",
   "metadata": {},
   "outputs": [],
   "source": [
    "# Necessary imports\n",
    "import re\n",
    "import requests\n",
    "from bs4 import BeautifulSoup\n",
    "import numpy as np\n",
    "from pathlib import Path\n",
    "import pandas as pd\n",
    "\n",
    "from tqdm.autonotebook import tqdm"
   ]
  },
  {
   "cell_type": "code",
   "execution_count": 10,
   "id": "3aa713d0",
   "metadata": {},
   "outputs": [],
   "source": [
    "# Create a folder to store the scripts\n",
    "\n",
    "scripts_dir = Path.cwd() / 'Scripts'\n",
    "scripts_dir.mkdir(exist_ok=True)"
   ]
  },
  {
   "cell_type": "markdown",
   "id": "4781c5f8",
   "metadata": {},
   "source": [
    "### Part 1: Get the scripts links for all episodes of each season  \n",
    "\n",
    "The goal is to get the source of the wiki page that stores the links. It is much easier to get using the library `bs4`, since only one textbox is present in a source page. The use regular expressions to extract the links for the scripts of each season."
   ]
  },
  {
   "cell_type": "code",
   "execution_count": 11,
   "id": "00e79020",
   "metadata": {},
   "outputs": [],
   "source": [
    "def link_to_url(link):\n",
    "    '''\n",
    "    Convert a link aquired from scraping to wiki link for the source text.\n",
    "    '''\n",
    "    # Have a base url to append the links to, in order to request the page needed at a time\n",
    "    base_url = 'https://southpark.fandom.com/wiki/'\n",
    "    \n",
    "    # Define an 'api' string, that when appended to a url, it directs to its source\n",
    "    source_api = '?action=edit'\n",
    "    \n",
    "    url = base_url + link + source_api\n",
    "    return url"
   ]
  },
  {
   "cell_type": "code",
   "execution_count": 12,
   "id": "7fa1389d",
   "metadata": {},
   "outputs": [],
   "source": [
    "def url_to_textbox(url):\n",
    "    '''\n",
    "    Return the text from the (unique) textbox of the source wiki page\n",
    "    '''\n",
    "    raw_html = requests.get(url)\n",
    "    soup = BeautifulSoup(raw_html.text, 'html.parser')\n",
    "    main_table = soup.find_all('textarea', class_='mw-editfont-default')\n",
    "    \n",
    "    try:\n",
    "        text = main_table[0].text\n",
    "        return text\n",
    "    except IndexError as e:\n",
    "        print(e)\n",
    "        print(url)\n",
    "        return -1"
   ]
  },
  {
   "cell_type": "markdown",
   "id": "22f541dc",
   "metadata": {},
   "source": [
    "Links for each season:"
   ]
  },
  {
   "cell_type": "code",
   "execution_count": 13,
   "id": "92dcd1de",
   "metadata": {},
   "outputs": [],
   "source": [
    "def get_links_titles(text, mode='s'):\n",
    "    '''\n",
    "    Return tuple of lists. First element is a list of urls. Second is the title.\n",
    "    mode: 's' for season , 'e' for episodes.\n",
    "    '''\n",
    "    if mode.lower()=='s':\n",
    "        pattern = r'\\|\\[{2}(.+)\\|(.+)\\]{2}'\n",
    "    elif mode.lower() == 'e':\n",
    "        pattern = r'\\\"\\[{2}(.+)\\|(.+)\\]{2}'\n",
    "    else:\n",
    "        print('wrong mode')\n",
    "        return None\n",
    "    \n",
    "    matches = re.findall(pattern, text)\n",
    "    max_elements = len(str(len(matches))) if matches else 0\n",
    "    \n",
    "    links = [] # Separate lists for urls\n",
    "    titles = [] # and titles\n",
    "    for i, match in enumerate(matches):\n",
    "        links.append(link_to_url(match[0].replace(' ', '_').replace('?', '%3F')))\n",
    "        \n",
    "        # Append 0 to the numbering to avoid sorting problems\n",
    "        el_num = '0'*(max_elements-len(str((i+1)))) + str(i+1)\n",
    "        element_title = match[1].replace(' ', '_')\n",
    "        element_title = element_title.replace(\"'\", '_')\n",
    "        element_title = element_title.replace('?', '%3F')\n",
    "        titles.append(el_num+'_'+element_title)\n",
    "    return links, titles"
   ]
  },
  {
   "cell_type": "markdown",
   "id": "ce6e854f",
   "metadata": {},
   "source": [
    "From the textbox of source page of each wiki link, two elements can be identified:  \n",
    " - `ScriptScene`: Describes a scene setting  \n",
    " - `ScriptDialog` : Describes the character and what he/she says  \n",
    "\n",
    "Use regular expressions to isolate the content of each of the above elements.  \n",
    "\n",
    "Since these are stored in a text file, the startegy to sepate them later is laid:  \n",
    "- Each scene begins and ends with 3 `+`: +++ Something happens +++\n",
    "- The character's name is followed by a space,  `:`, a space and then what they say."
   ]
  },
  {
   "cell_type": "code",
   "execution_count": 14,
   "id": "d11de928",
   "metadata": {},
   "outputs": [],
   "source": [
    "def process_dialog(dialog_textbox):\n",
    "    dialog_pattern = r'\\{\\{ScriptDialog\\|(.+)\\|(.+)\\}\\}'\n",
    "    matches = re.findall(dialog_pattern, dialog_textbox)\n",
    "    \n",
    "    document = ''\n",
    "    for match in matches:\n",
    "        document += match[0] + \" : \"\n",
    "        document += match[1] + '\\n'\n",
    "    return document"
   ]
  },
  {
   "cell_type": "code",
   "execution_count": 15,
   "id": "29510169",
   "metadata": {},
   "outputs": [],
   "source": [
    "def process_script_textbox(textbox):\n",
    "    # Identify the scenes. Get their content and (start) and ending index\n",
    "    scene_pattern = r'\\{\\{ScriptScene\\|(.+)\\}\\}'\n",
    "    matches  =re.finditer(scene_pattern, textbox)\n",
    "    \n",
    "    scene_separators = '+'*5\n",
    "    \n",
    "    starts = []\n",
    "    ends = []\n",
    "    content = []\n",
    "    for match in matches:\n",
    "        starts.append(match.start())\n",
    "        ends.append(match.end())\n",
    "        content.append(match.group(1))\n",
    "    \n",
    "    \n",
    "    # Take only the parts between scenes. Each episode starts with a scene and ends with dialogue\n",
    "    starts = starts[1:]\n",
    "    ends = ends[:-1]\n",
    "    \n",
    "    # Start creating the document for this episode\n",
    "    document = ''\n",
    "    document = scene_separators + content[0] + scene_separators + '\\n'\n",
    "    \n",
    "    content_i = 1\n",
    "    for start_i, end_i in zip(ends, starts):\n",
    "        dialog_txt = textbox[start_i: end_i]\n",
    "                \n",
    "        processed_dialog_txt = process_dialog(dialog_txt)\n",
    "        document += processed_dialog_txt\n",
    "        \n",
    "        # Add the next scene text\n",
    "        document += scene_separators + content[content_i] + scene_separators + '\\n'\n",
    "        content_i += 1\n",
    "        \n",
    "    return document"
   ]
  },
  {
   "cell_type": "code",
   "execution_count": 16,
   "id": "d852e136",
   "metadata": {},
   "outputs": [
    {
     "data": {
      "application/vnd.jupyter.widget-view+json": {
       "model_id": "d5a01725e2974705bc8b0d1317a27f74",
       "version_major": 2,
       "version_minor": 0
      },
      "text/plain": [
       "  0%|          | 0/25 [00:00<?, ?it/s]"
      ]
     },
     "metadata": {},
     "output_type": "display_data"
    }
   ],
   "source": [
    "url = 'https://southpark.fandom.com/wiki/Portal:Scripts?action=edit'\n",
    "seasons_textbox = url_to_textbox(url)\n",
    "season_urls, season_names = get_links_titles(seasons_textbox)\n",
    "\n",
    "# Create a dataframe to store season names, links and episode title and link\n",
    "links_df = pd.DataFrame({'Season':[], 'Episode':[], 'URL':[]})\n",
    "\n",
    "for i in tqdm(range(len(season_names))):\n",
    "    # Create a dir in the scripts dir for the season\n",
    "    season_path = scripts_dir / season_names[i]\n",
    "    season_path.mkdir(exist_ok=True)\n",
    "    \n",
    "    # Get all the episode links and names of the season\n",
    "    episodes_textbox = url_to_textbox(season_urls[i])\n",
    "    episodes_urls, episodes_names = get_links_titles(episodes_textbox, 'e')\n",
    "    \n",
    "    # Create lists for the dataframe update\n",
    "    season_nm = []\n",
    "    episode_nm = []\n",
    "    episode_lnk = []\n",
    "    for j in range(len(episodes_names)):\n",
    "        \n",
    "        # To update dataframe\n",
    "        season_nm.append(season_names[i])\n",
    "        episode_nm.append(episodes_names[j])\n",
    "        episode_lnk.append(episodes_urls[j])\n",
    "        \n",
    "        # Get the raw data for the scripts of this episode\n",
    "        episode_textbox = url_to_textbox(episodes_urls[j])\n",
    "        \n",
    "        # Find scenes and dialogs and add them to a formatted document\n",
    "        document = process_script_textbox(episode_textbox)\n",
    "        \n",
    "        # Save the formatted script in a text file        \n",
    "        with open(season_path.as_posix()+f'/{episodes_names[j]}.txt', 'w', encoding='utf8') as f:\n",
    "            f.write(document)\n",
    "            \n",
    "    temp_df = pd.DataFrame({'Season': season_nm, 'Episode':episode_nm, 'URL':episode_lnk})\n",
    "    links_df = pd.concat([links_df, temp_df])\n",
    "        \n",
    "\n",
    "# Save the created dataframe in a csv file\n",
    "links_df.to_csv('episode_script_urls.csv', index=False)"
   ]
  },
  {
   "cell_type": "markdown",
   "id": "26ee6883",
   "metadata": {},
   "source": [
    "### Part 2: Get the characters from the documents  \n",
    "\n",
    "Many things can be combined, like that character list and the relationship building between the characters for the network. However, it is better to proceed step by step, since there is no need for performance or running the script real time."
   ]
  },
  {
   "cell_type": "code",
   "execution_count": 93,
   "id": "6878d645",
   "metadata": {},
   "outputs": [],
   "source": [
    "def get_episode_characters(formatted_episode_script):\n",
    "    characters_pattern = r\"\\n([\\w\\d\\s.,'-]+)\\s:\"\n",
    "    matches = re.findall(characters_pattern, formatted_episode_script)\n",
    "    \n",
    "    characters = []\n",
    "    for match in matches:\n",
    "        # Remove groups\n",
    "        if len(match.split(','))>1:\n",
    "            continue\n",
    "        if len(match.split(' and '))>1:\n",
    "            continue\n",
    "        if len(match.strip().split(\" \")) > 1 and match.strip().split(' ')[-1].isnumeric():\n",
    "            continue        \n",
    "        characters.append(match.strip())\n",
    "        \n",
    "    \n",
    "    # Remove duplicates due to introduction\n",
    "    single_name = [character for character in set(characters) if len(character.split())<2]\n",
    "    dual_name = [character for character in set(characters) if len(character.split())>1]\n",
    "    tmp_dual_chars = dual_name[:]\n",
    "    \n",
    "    for character in single_name:\n",
    "        for el in tmp_dual_chars:\n",
    "            if character in el.split():\n",
    "                tmp_dual_chars.remove(el)\n",
    "\n",
    "    characters = single_name[:] + tmp_dual_chars[:]\n",
    "    \n",
    "    # Remove the aggregation of Man and Woman\n",
    "    if 'Man' in characters:\n",
    "        characters.remove('Man')\n",
    "    if 'Woman' in characters:\n",
    "        characters.remove('Woman')\n",
    "    \n",
    "    return set(characters)"
   ]
  },
  {
   "cell_type": "code",
   "execution_count": 94,
   "id": "a261751c",
   "metadata": {},
   "outputs": [
    {
     "data": {
      "application/vnd.jupyter.widget-view+json": {
       "model_id": "f89c2244e28748be9cf7e668632af5a6",
       "version_major": 2,
       "version_minor": 0
      },
      "text/plain": [
       "0it [00:00, ?it/s]"
      ]
     },
     "metadata": {},
     "output_type": "display_data"
    }
   ],
   "source": [
    "characters = []\n",
    "for ep_script in tqdm(scripts_dir.glob('**/*.txt')):\n",
    "    with open(ep_script.as_posix(), 'r', encoding='utf8') as f:\n",
    "        document = f.read()\n",
    "    episode_characters = get_episode_characters(document)\n",
    "    characters += episode_characters\n",
    "    \n",
    "# We want unique characters, avoid repetition between episodes\n",
    "characters = list(set(characters))\n",
    "\n",
    "# Save the characters as a pandas dataframe\n",
    "characters_df = pd.DataFrame.from_dict({'name':characters})\n",
    "characters_df.to_csv('characters_df.csv', index=False)"
   ]
  },
  {
   "cell_type": "markdown",
   "id": "642c9722",
   "metadata": {},
   "source": [
    "### Relationships between characters"
   ]
  },
  {
   "cell_type": "code",
   "execution_count": 19,
   "id": "b06f9616",
   "metadata": {},
   "outputs": [],
   "source": [
    "relationships_path = Path.cwd() / 'Relationships'\n",
    "relationships_path.mkdir(exist_ok=True)"
   ]
  },
  {
   "cell_type": "markdown",
   "id": "18635cba",
   "metadata": {},
   "source": [
    "We are only interested in the names of the characters here. So we can create a dictionary with keys the full name and values the first name. Or maybe we could create two lists:"
   ]
  },
  {
   "cell_type": "code",
   "execution_count": 20,
   "id": "62b11688",
   "metadata": {},
   "outputs": [],
   "source": [
    "# Go with the two lists approach\n",
    "names = characters_df.name.to_list()"
   ]
  },
  {
   "cell_type": "code",
   "execution_count": 21,
   "id": "fc9badf8",
   "metadata": {},
   "outputs": [],
   "source": [
    "# Create a dictionary to create a data frame from it afterwards\n",
    "# It will be of the form:   'first_char': 'second_char'\n",
    "characters_interactions = {} "
   ]
  },
  {
   "cell_type": "markdown",
   "id": "9c042c5b",
   "metadata": {},
   "source": [
    "Define two functions used to search for names and relationships in the scripts:"
   ]
  },
  {
   "cell_type": "code",
   "execution_count": 22,
   "id": "c543c15d",
   "metadata": {},
   "outputs": [],
   "source": [
    "def get_characters_in_text(text, characters_list):\n",
    "\n",
    "    pattern = r'\\n(.+)\\s:'\n",
    "    matches = re.findall(pattern, text)\n",
    "    chars = [nm.strip() for nm in matches]\n",
    "    \n",
    "    char_list = []\n",
    "    for character in chars:\n",
    "        if character in characters_list:\n",
    "            char_list.append(character)\n",
    "    \n",
    "    return char_list"
   ]
  },
  {
   "cell_type": "code",
   "execution_count": 23,
   "id": "fdb8b492",
   "metadata": {},
   "outputs": [],
   "source": [
    "def create_relationship_dict(char_list):\n",
    "    relationship_dict_list = []\n",
    "    for i, el in enumerate(char_list[:-1]):\n",
    "        for character in char_list[i+1:]:\n",
    "            if not character == el:\n",
    "                relationship_dict_list.append({ 'source':el, 'target':character })\n",
    "    return relationship_dict_list"
   ]
  },
  {
   "cell_type": "code",
   "execution_count": 24,
   "id": "072d330d",
   "metadata": {},
   "outputs": [
    {
     "data": {
      "application/vnd.jupyter.widget-view+json": {
       "model_id": "bfa05e4f77e84a24a65f05a1020ad8a2",
       "version_major": 2,
       "version_minor": 0
      },
      "text/plain": [
       "0it [00:00, ?it/s]"
      ]
     },
     "metadata": {},
     "output_type": "display_data"
    }
   ],
   "source": [
    "# Define a regex pattern. Compile it to be faster since there are many files\n",
    "pattern = r\"[+]{2}\\n([^+]+)[+]{2}\"\n",
    "prog = re.compile(pattern)\n",
    "\n",
    "total_relationships_dict_list = []\n",
    "\n",
    "for file_ in tqdm(scripts_dir.glob('**/*.txt')):\n",
    "        \n",
    "    episode_relationship_dict_list = []\n",
    "    season_nr = file_.as_posix().split('/')[-2]\n",
    "    fname = file_.as_posix().split('/')[-1]\n",
    "    fname = fname.split('.')[0]\n",
    "    \n",
    "    # Create a folder for each season and save the csv of the relationships in there for each episode\n",
    "    season_path = relationships_path / f\"{season_nr}\"\n",
    "    season_path.mkdir(exist_ok=True)\n",
    "    \n",
    "    with open(file_, 'r', encoding='utf-8') as f:\n",
    "        test_txt = f.read()\n",
    "            \n",
    "    \n",
    "    # Use regex to find the text between the pluses\n",
    "    results = prog.findall(test_txt)\n",
    "    for result in results:\n",
    "        # Get the list of characters in this scene\n",
    "        chars_in_part = get_characters_in_text(result, names)\n",
    "        # If there are more than 1 characters in the list, create a relationship between them and\n",
    "        # append to the corresponding lists\n",
    "\n",
    "        if len(chars_in_part)>1:\n",
    "            rel_lst = create_relationship_dict(chars_in_part)                \n",
    "            episode_relationship_dict_list += rel_lst\n",
    "            total_relationships_dict_list += rel_lst\n",
    "    \n",
    "    # For this episode, create now a dataframe from the episode relationships\n",
    "    episode_rel_df = pd.DataFrame(episode_relationship_dict_list)\n",
    "    \n",
    "    # I have duplicates. I can add them as weights.\n",
    "    # But first to have all of the same names on the same column\n",
    "    # I want for a specific pair of source and target\n",
    "    # the source to be always on the same column of the dataframe\n",
    "    episode_rel_df = pd.DataFrame( np.sort(episode_rel_df.values, axis=1), columns=episode_rel_df.columns )\n",
    "    \n",
    "    # For the duplicates, we can add them up to form weights on the edges, representing\n",
    "    # how strong the relationship is\n",
    "    episode_rel_df['weight'] = 1 # initialize\n",
    "    try:\n",
    "        episode_rel_df = episode_rel_df.groupby(['source', 'target'], sort=False, as_index=False).sum()\n",
    "        episode_rel_df.to_csv(season_path.as_posix()+'/'+fname+'.csv')\n",
    "    except KeyError as e:\n",
    "        print(e)\n",
    "        print(season_nr, fname)\n",
    "        print(episode_rel_df)\n",
    "        print()\n",
    "        \n",
    "        \n",
    "# Do the same for the total relationship\n",
    "total_relationships_dict_list = pd.DataFrame(total_relationships_dict_list)\n",
    "total_relationships_dict_list = pd.DataFrame( np.sort(total_relationships_dict_list.values, axis=1), columns=total_relationships_dict_list.columns )\n",
    "total_relationships_dict_list['weight'] = 1\n",
    "total_relationships_dict_list = total_relationships_dict_list.groupby(['source', 'target'], sort=False, as_index=False).sum()\n",
    "total_relationships_dict_list.to_csv(relationships_path.as_posix()+'/'+'total_relationships'+'.csv')"
   ]
  },
  {
   "cell_type": "code",
   "execution_count": 25,
   "id": "c5078521",
   "metadata": {},
   "outputs": [
    {
     "data": {
      "text/html": [
       "<div>\n",
       "<style scoped>\n",
       "    .dataframe tbody tr th:only-of-type {\n",
       "        vertical-align: middle;\n",
       "    }\n",
       "\n",
       "    .dataframe tbody tr th {\n",
       "        vertical-align: top;\n",
       "    }\n",
       "\n",
       "    .dataframe thead th {\n",
       "        text-align: right;\n",
       "    }\n",
       "</style>\n",
       "<table border=\"1\" class=\"dataframe\">\n",
       "  <thead>\n",
       "    <tr style=\"text-align: right;\">\n",
       "      <th></th>\n",
       "      <th>source</th>\n",
       "      <th>target</th>\n",
       "      <th>weight</th>\n",
       "    </tr>\n",
       "  </thead>\n",
       "  <tbody>\n",
       "    <tr>\n",
       "      <th>0</th>\n",
       "      <td>Cartman</td>\n",
       "      <td>Kyle</td>\n",
       "      <td>20424</td>\n",
       "    </tr>\n",
       "    <tr>\n",
       "      <th>1</th>\n",
       "      <td>Kyle</td>\n",
       "      <td>Stan</td>\n",
       "      <td>17032</td>\n",
       "    </tr>\n",
       "    <tr>\n",
       "      <th>2</th>\n",
       "      <td>Ike</td>\n",
       "      <td>Kyle</td>\n",
       "      <td>591</td>\n",
       "    </tr>\n",
       "    <tr>\n",
       "      <th>3</th>\n",
       "      <td>Cartman</td>\n",
       "      <td>Stan</td>\n",
       "      <td>16278</td>\n",
       "    </tr>\n",
       "    <tr>\n",
       "      <th>4</th>\n",
       "      <td>Cartman</td>\n",
       "      <td>Ike</td>\n",
       "      <td>209</td>\n",
       "    </tr>\n",
       "    <tr>\n",
       "      <th>...</th>\n",
       "      <td>...</td>\n",
       "      <td>...</td>\n",
       "      <td>...</td>\n",
       "    </tr>\n",
       "    <tr>\n",
       "      <th>16766</th>\n",
       "      <td>Woman</td>\n",
       "      <td>Yates</td>\n",
       "      <td>8</td>\n",
       "    </tr>\n",
       "    <tr>\n",
       "      <th>16767</th>\n",
       "      <td>Everyone</td>\n",
       "      <td>Saint Patrick</td>\n",
       "      <td>8</td>\n",
       "    </tr>\n",
       "    <tr>\n",
       "      <th>16768</th>\n",
       "      <td>Saint Patrick</td>\n",
       "      <td>Woman</td>\n",
       "      <td>32</td>\n",
       "    </tr>\n",
       "    <tr>\n",
       "      <th>16769</th>\n",
       "      <td>Man</td>\n",
       "      <td>Saint Patrick</td>\n",
       "      <td>40</td>\n",
       "    </tr>\n",
       "    <tr>\n",
       "      <th>16770</th>\n",
       "      <td>Everyone</td>\n",
       "      <td>Woman</td>\n",
       "      <td>4</td>\n",
       "    </tr>\n",
       "  </tbody>\n",
       "</table>\n",
       "<p>16771 rows × 3 columns</p>\n",
       "</div>"
      ],
      "text/plain": [
       "              source         target  weight\n",
       "0            Cartman           Kyle   20424\n",
       "1               Kyle           Stan   17032\n",
       "2                Ike           Kyle     591\n",
       "3            Cartman           Stan   16278\n",
       "4            Cartman            Ike     209\n",
       "...              ...            ...     ...\n",
       "16766          Woman          Yates       8\n",
       "16767       Everyone  Saint Patrick       8\n",
       "16768  Saint Patrick          Woman      32\n",
       "16769            Man  Saint Patrick      40\n",
       "16770       Everyone          Woman       4\n",
       "\n",
       "[16771 rows x 3 columns]"
      ]
     },
     "execution_count": 25,
     "metadata": {},
     "output_type": "execute_result"
    }
   ],
   "source": [
    "total_relationships_dict_list"
   ]
  }
 ],
 "metadata": {
  "kernelspec": {
   "display_name": "Python 3 (ipykernel)",
   "language": "python",
   "name": "python3"
  },
  "language_info": {
   "codemirror_mode": {
    "name": "ipython",
    "version": 3
   },
   "file_extension": ".py",
   "mimetype": "text/x-python",
   "name": "python",
   "nbconvert_exporter": "python",
   "pygments_lexer": "ipython3",
   "version": "3.9.12"
  }
 },
 "nbformat": 4,
 "nbformat_minor": 5
}
