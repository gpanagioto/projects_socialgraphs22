{
  "nbformat": 4,
  "nbformat_minor": 0,
  "metadata": {
    "colab": {
      "provenance": [],
      "collapsed_sections": [],
      "authorship_tag": "ABX9TyPRpHkCyg0xAu9YHKr5D5qe",
      "include_colab_link": true
    },
    "kernelspec": {
      "name": "python3",
      "display_name": "Python 3"
    },
    "language_info": {
      "name": "python"
    }
  },
  "cells": [
    {
      "cell_type": "markdown",
      "metadata": {
        "id": "view-in-github",
        "colab_type": "text"
      },
      "source": [
        "<a href=\"https://colab.research.google.com/github/gpanagioto/projects_socialgraphs22/blob/main/sg22_assignment_2.ipynb\" target=\"_parent\"><img src=\"https://colab.research.google.com/assets/colab-badge.svg\" alt=\"Open In Colab\"/></a>"
      ]
    },
    {
      "cell_type": "markdown",
      "source": [
        "# Formalia:\n",
        "Please read the [assignment overview page](https://github.com/SocialComplexityLab/socialgraphs2022/wiki/Assignments) carefully before proceeding. This page contains information about formatting (including formats etc), group sizes, and many other aspects of handing in the assignment.\n",
        "\n",
        "If you fail to follow these simple instructions, it will negatively impact your grade!\n",
        "\n",
        "Due date and time: The assignment is due on Tuesday November 1st, 2022 at 23:55. Hand in your IPython notebook file (with extension .ipynb) via http://peergrade.io/ (we won't be doing peergrading, but we'll still use http://peergrade.io/ for the handin.)\n",
        "\n",
        "----"
      ],
      "metadata": {
        "id": "8Q9zEkdkOaic"
      }
    },
    {
      "cell_type": "markdown",
      "metadata": {
        "id": "3gND2J10Uj33"
      },
      "source": [
        "# Assignment 2: Network Science\n",
        "\n",
        "_Course: 02805 - **Social Graphs and Interactions**_ <br>\n",
        "_Course responsible: **Sune Lehmann Jørgensen**_ <br>\n",
        "_DTU - **Technical University of Denmark**_  \n",
        "_Due date - **01/11/2022**_ <br>\n",
        "_Students - **Nikos Karageorgos, John Manganas, Georgios Panagiotopoulos**_"
      ]
    },
    {
      "cell_type": "markdown",
      "metadata": {
        "id": "Uc-d1NXnUj34"
      },
      "source": [
        "---\n",
        "\n",
        "## Table of Contents:\n",
        "- [__Part 0: Data__](#0.)\n",
        "\n",
        "- [__Part 1: Basic Stats__](#1.)\n",
        "\n",
        "- [__Part 2: Communities__](#2.)\n",
        "\n",
        "- [__Part 3: Sentiment__](#3.)\n",
        "\n",
        "---"
      ]
    },
    {
      "cell_type": "markdown",
      "source": [
        "Installation and Importing of all the necessary libraries we will need"
      ],
      "metadata": {
        "id": "rxWLEVHAd3JW"
      }
    },
    {
      "cell_type": "code",
      "source": [
        "%%capture\n",
        "!pip install wordcloud\n",
        "from io import BytesIO\n",
        "import requests\n",
        "from scipy import stats as st\n",
        "from wordcloud import WordCloud, STOPWORDS\n",
        "from nltk import *\n",
        "import pprint\n",
        "from nltk import word_tokenize\n",
        "#nltk.download('punkt')\n",
        "import pandas as pd\n",
        "from sqlalchemy import create_engine\n",
        "import string\n",
        "import re\n",
        "import matplotlib.pyplot as plt\n",
        "%matplotlib inline\n",
        "import networkx as nx\n",
        "import pickle\n",
        "import numpy as np\n",
        "import community.community_louvain as community_louvain"
      ],
      "metadata": {
        "id": "1i0MibzBd5tA"
      },
      "execution_count": 17,
      "outputs": []
    },
    {
      "cell_type": "markdown",
      "source": [
        "Our DC and Marvel superhero dataset after the proper extraction have been stored in a cloud PostgreSQL Database, easily and quickly accessible."
      ],
      "metadata": {
        "id": "6Aw-JkV5eDxF"
      }
    },
    {
      "cell_type": "code",
      "source": [
        "# Defining function for importing data from the cloud DB. The function returns two dataframes, one for each universe with two columns character_name, wiki_text\n",
        "def DataImport(table_name):\n",
        "  host=\"ec2-54-75-184-144.eu-west-1.compute.amazonaws.com\"\n",
        "  port=\"5432\" \n",
        "  dbname=\"dab1kopm5t3l06\"\n",
        "  user=\"kpervzhazofybh\" \n",
        "  password=\"0d1b5470c51c481880eed267865a8529bdc671f8cb90702d6dcb9e7c199d02ee\"\n",
        "\n",
        "  Engine   = create_engine('postgresql+psycopg2://{}:{}@{}:{}/{}'.format(user,password,host,port,dbname))\n",
        "\n",
        "  # Connect to PostgreSQL server\n",
        "  dbConnection = Engine.connect();\n",
        "\n",
        "  # Read data from PostgreSQL database table and load into a DataFrame instance\n",
        "  df = pd.read_sql(\"select * from {}\".format(table_name), dbConnection)\n",
        "  pd.set_option('display.expand_frame_repr', False)\n",
        "\n",
        "  return df"
      ],
      "metadata": {
        "id": "iWKn5jlGd_Sz"
      },
      "execution_count": 12,
      "outputs": []
    },
    {
      "cell_type": "code",
      "source": [
        "# Our Network has been stored as a pickle file in our GitHub Repository of this second assignment\n",
        "mLink = 'https://github.com/gpanagioto/projects_socialgraphs22/blob/main/Assignment2/SuperHeroesGraph.gpickle?raw=true'\n",
        "mfile = BytesIO(requests.get(mLink).content)\n",
        "G = pickle.load(mfile)\n",
        "\n",
        "#G_dir = pickle.load(open('/content/drive/MyDrive/DTU/02805 Social graphs and interactions/SuperHeroesGraph.gpickle', 'rb'))"
      ],
      "metadata": {
        "id": "JXLtoj0meIne"
      },
      "execution_count": null,
      "outputs": []
    },
    {
      "cell_type": "markdown",
      "source": [
        "<a id='0.'></a>\n",
        "# Part 0: Data \n"
      ],
      "metadata": {
        "id": "1BetzHRgQnKN"
      }
    },
    {
      "cell_type": "markdown",
      "source": [
        "* Write a short paragraph describing the network. The paragraph should contain the following information\n",
        "\n",
        "  * The number of nodes and links.\n",
        "  * The average, median, mode, minimum and maximum value of the network's in-degree.s And of the out-degrees."
      ],
      "metadata": {
        "id": "PuSNOpI_diyS"
      }
    },
    {
      "cell_type": "code",
      "source": [
        "def Measures(Graph, TypeOfDegree, Data):\n",
        "\n",
        "  if TypeOfDegree == 'In':\n",
        "    values = list(dict(Graph.in_degree(Data)).values())\n",
        "  else:\n",
        "    values = list(dict(Graph.out_degree(Data)).values())\n",
        "  \n",
        "  mean = np.mean(values)\n",
        "  print(\"The average value is {}.\".format(mean))\n",
        "  median = np.median(values)\n",
        "  print(\"\\nThe median is {}.\".format(median))\n",
        "  mode = st.mode(values)\n",
        "  print(\"\\nThe mode is {}.\".format(list(mode)[0][0]))\n",
        "  min = np.min(values)\n",
        "  print(\"\\nThe min is {}.\".format(min))\n",
        "  max = np.max(values)\n",
        "  print(\"\\nThe max is {}.\".format(max))\n",
        "\n",
        "  return mean, median, list(mode)[0][0], min, max  "
      ],
      "metadata": {
        "id": "BvfAYJQWmroB"
      },
      "execution_count": 22,
      "outputs": []
    },
    {
      "cell_type": "code",
      "source": [
        "print('The number of nodes of the network are {}. The number of edges of the network are {}.'.format(G.number_of_nodes(),G.number_of_edges()))"
      ],
      "metadata": {
        "colab": {
          "base_uri": "https://localhost:8080/"
        },
        "id": "e-CsKgCckVeN",
        "outputId": "e2edff59-0164-44c9-f18b-86fcdffde410"
      },
      "execution_count": 23,
      "outputs": [
        {
          "output_type": "stream",
          "name": "stdout",
          "text": [
            "The number of nodes of the network are 2538. The number of edges of the network are 29998.\n"
          ]
        }
      ]
    },
    {
      "cell_type": "code",
      "source": [
        "Data = list(G.nodes())\n",
        "TypeOfDegree = 'In'\n",
        "average, median, mode, min, max = Measures(G, TypeOfDegree, Data)"
      ],
      "metadata": {
        "colab": {
          "base_uri": "https://localhost:8080/"
        },
        "id": "1iMn5EholxyM",
        "outputId": "4c28d26d-d58b-400b-a801-53e8fbf5489c"
      },
      "execution_count": 24,
      "outputs": [
        {
          "output_type": "stream",
          "name": "stdout",
          "text": [
            "The average value is 11.819542947202521.\n",
            "\n",
            "The median is 4.0.\n",
            "\n",
            "The mode is 1.\n",
            "\n",
            "The min is 0.\n",
            "\n",
            "The max is 448.\n"
          ]
        }
      ]
    },
    {
      "cell_type": "code",
      "source": [
        "Data = list(G.nodes())\n",
        "TypeOfDegree = 'Out'\n",
        "average, median, mode, min, max = Measures(G, TypeOfDegree, Data)"
      ],
      "metadata": {
        "colab": {
          "base_uri": "https://localhost:8080/"
        },
        "id": "0QieKDEDmOnJ",
        "outputId": "8552c34f-af68-4567-ab4b-5780d0f625e6"
      },
      "execution_count": 25,
      "outputs": [
        {
          "output_type": "stream",
          "name": "stdout",
          "text": [
            "The average value is 11.819542947202521.\n",
            "\n",
            "The median is 7.0.\n",
            "\n",
            "The mode is 0.\n",
            "\n",
            "The min is 0.\n",
            "\n",
            "The max is 112.\n"
          ]
        }
      ]
    },
    {
      "cell_type": "markdown",
      "source": [
        "* We also want the degree distributions and a plot of the network\n",
        "\n",
        "  * Create in- and out-going degree distributions as described in Lecture 5.\n",
        "  * Estimate the slope of the incoming degree distribtion as described in Lecture 5.\n",
        "  * Plot the network using the Force Atlas algorithm as described in Lecture 5.\n"
      ],
      "metadata": {
        "id": "qQwRiL-WkTti"
      }
    },
    {
      "cell_type": "code",
      "source": [],
      "metadata": {
        "id": "ZLY-BcrNbcXK"
      },
      "execution_count": null,
      "outputs": []
    }
  ]
}