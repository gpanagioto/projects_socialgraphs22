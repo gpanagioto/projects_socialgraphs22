{
  "nbformat": 4,
  "nbformat_minor": 0,
  "metadata": {
    "colab": {
      "provenance": [],
      "collapsed_sections": []
    },
    "kernelspec": {
      "name": "python3",
      "display_name": "Python 3"
    },
    "language_info": {
      "name": "python"
    }
  },
  "cells": [
    {
      "cell_type": "markdown",
      "source": [
        "# Formalia:\n",
        "Please read the [assignment overview page](https://github.com/SocialComplexityLab/socialgraphs2022/wiki/Assignments) carefully before proceeding. This page contains information about formatting (including formats etc), group sizes, and many other aspects of handing in the assignment.\n",
        "\n",
        "If you fail to follow these simple instructions, it will negatively impact your grade!\n",
        "\n",
        "Due date and time: The assignment is due on Tuesday November 1st, 2022 at 23:55. Hand in your IPython notebook file (with extension .ipynb) via http://peergrade.io/ (we won't be doing peergrading, but we'll still use http://peergrade.io/ for the handin.)\n",
        "\n",
        "----"
      ],
      "metadata": {
        "id": "8Q9zEkdkOaic"
      }
    },
    {
      "cell_type": "markdown",
      "metadata": {
        "id": "3gND2J10Uj33"
      },
      "source": [
        "# Assignment 2: Network Science\n",
        "\n",
        "_Course: 02805 - **Social Graphs and Interactions**_ <br>\n",
        "_Course responsible: **Sune Lehmann Jørgensen**_ <br>\n",
        "_DTU - **Technical University of Denmark**_  \n",
        "_Due date - **01/11/2022**_ <br>\n",
        "_Students - **Nikos Karageorgos, John Manganas, Georgios Panagiotopoulos**_"
      ]
    },
    {
      "cell_type": "markdown",
      "metadata": {
        "id": "Uc-d1NXnUj34"
      },
      "source": [
        "---\n",
        "\n",
        "## Table of Contents:\n",
        "- [__Part 0: Data__](#0.)\n",
        "\n",
        "- [__Part 1: Basic Stats__](#1.)\n",
        "\n",
        "- [__Part 2: Communities__](#2.)\n",
        "\n",
        "- [__Part 3: Sentiment__](#3.)\n",
        "\n",
        "---"
      ]
    },
    {
      "cell_type": "markdown",
      "source": [
        "Installation and Importing of all the necessary libraries we will need"
      ],
      "metadata": {
        "id": "rxWLEVHAd3JW"
      }
    },
    {
      "cell_type": "code",
      "source": [
        "%%capture\n",
        "!pip install wordcloud\n",
        "from io import BytesIO\n",
        "import requests\n",
        "from wordcloud import WordCloud, STOPWORDS\n",
        "from nltk import *\n",
        "import pprint\n",
        "from nltk import word_tokenize\n",
        "#nltk.download('punkt')\n",
        "import pandas as pd\n",
        "from sqlalchemy import create_engine\n",
        "import string\n",
        "import re\n",
        "import matplotlib.pyplot as plt\n",
        "%matplotlib inline\n",
        "import networkx as nx\n",
        "import pickle\n",
        "import numpy as np\n",
        "import community.community_louvain as community_louvain"
      ],
      "metadata": {
        "id": "1i0MibzBd5tA"
      },
      "execution_count": null,
      "outputs": []
    },
    {
      "cell_type": "markdown",
      "source": [
        "Our DC and Marvel superhero dataset after the proper extraction have been stored in a cloud PostgreSQL Database, easily and quickly accessible."
      ],
      "metadata": {
        "id": "6Aw-JkV5eDxF"
      }
    },
    {
      "cell_type": "code",
      "source": [
        "# Defining function for importing data from the cloud DB. The function returns two dataframes, one for each universe with two columns character_name, wiki_text\n",
        "def DataImport(table_name):\n",
        "  host=\"ec2-54-75-184-144.eu-west-1.compute.amazonaws.com\"\n",
        "  port=\"5432\" \n",
        "  dbname=\"dab1kopm5t3l06\"\n",
        "  user=\"kpervzhazofybh\" \n",
        "  password=\"0d1b5470c51c481880eed267865a8529bdc671f8cb90702d6dcb9e7c199d02ee\"\n",
        "\n",
        "  Engine   = create_engine('postgresql+psycopg2://{}:{}@{}:{}/{}'.format(user,password,host,port,dbname))\n",
        "\n",
        "  # Connect to PostgreSQL server\n",
        "  dbConnection = Engine.connect();\n",
        "\n",
        "  # Read data from PostgreSQL database table and load into a DataFrame instance\n",
        "  df = pd.read_sql(\"select * from {}\".format(table_name), dbConnection)\n",
        "  pd.set_option('display.expand_frame_repr', False)\n",
        "\n",
        "  return df"
      ],
      "metadata": {
        "id": "iWKn5jlGd_Sz"
      },
      "execution_count": 12,
      "outputs": []
    },
    {
      "cell_type": "code",
      "source": [
        "# Our Network has been stored as a pickle file in our GitHub Repository of this second assignment\n",
        "mLink = 'https://github.com/gpanagioto/projects_socialgraphs22/blob/main/Assignment2/SuperHeroesGraph.gpickle?raw=true'\n",
        "mfile = BytesIO(requests.get(mLink).content)\n",
        "G = pickle.load(mfile)\n",
        "\n",
        "#G_dir = pickle.load(open('/content/drive/MyDrive/DTU/02805 Social graphs and interactions/SuperHeroesGraph.gpickle', 'rb'))"
      ],
      "metadata": {
        "id": "JXLtoj0meIne"
      },
      "execution_count": null,
      "outputs": []
    },
    {
      "cell_type": "markdown",
      "source": [
        "<a id='0.'></a>\n",
        "# Part 0: Data \n"
      ],
      "metadata": {
        "id": "1BetzHRgQnKN"
      }
    },
    {
      "cell_type": "markdown",
      "source": [
        "* Write a short paragraph describing the network. The paragraph should contain the following information\n",
        "\n",
        "  * The number of nodes and links.\n",
        "  * The average, median, mode, minimum and maximum value of the network's in-degree.s And of the out-degrees.\n",
        "\n",
        "* We also want the degree distributions and a plot of the network\n",
        "\n",
        "  * Create in- and out-going degree distributions as described in Lecture 5.\n",
        "  * Estimate the slope of the incoming degree distribtion as described in Lecture 5.\n",
        "  * Plot the network using the Force Atlas algorithm as described in Lecture 5.\n"
      ],
      "metadata": {
        "id": "PuSNOpI_diyS"
      }
    },
    {
      "cell_type": "code",
      "source": [
        "type(G)"
      ],
      "metadata": {
        "colab": {
          "base_uri": "https://localhost:8080/"
        },
        "id": "yCvVNDBKUu6V",
        "outputId": "393f2ddc-9f72-4038-c63f-169a467abc03"
      },
      "execution_count": 11,
      "outputs": [
        {
          "output_type": "execute_result",
          "data": {
            "text/plain": [
              "networkx.classes.digraph.DiGraph"
            ]
          },
          "metadata": {},
          "execution_count": 11
        }
      ]
    },
    {
      "cell_type": "code",
      "source": [],
      "metadata": {
        "id": "ZLY-BcrNbcXK"
      },
      "execution_count": null,
      "outputs": []
    }
  ]
}