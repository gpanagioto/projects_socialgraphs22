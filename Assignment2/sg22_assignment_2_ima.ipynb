{
 "cells": [
  {
   "cell_type": "markdown",
   "metadata": {
    "id": "8Q9zEkdkOaic"
   },
   "source": [
    "# Formalia:\n",
    "Please read the [assignment overview page](https://github.com/SocialComplexityLab/socialgraphs2022/wiki/Assignments) carefully before proceeding. This page contains information about formatting (including formats etc), group sizes, and many other aspects of handing in the assignment.\n",
    "\n",
    "If you fail to follow these simple instructions, it will negatively impact your grade!\n",
    "\n",
    "Due date and time: The assignment is due on Tuesday November 1st, 2022 at 23:55. Hand in your IPython notebook file (with extension .ipynb) via http://peergrade.io/ (we won't be doing peergrading, but we'll still use http://peergrade.io/ for the handin.)\n",
    "\n",
    "----"
   ]
  },
  {
   "cell_type": "markdown",
   "metadata": {
    "id": "3gND2J10Uj33"
   },
   "source": [
    "# Assignment 2: Network Science\n",
    "\n",
    "_Course: 02805 - **Social Graphs and Interactions**_ <br>\n",
    "_Course responsible: **Sune Lehmann Jørgensen**_ <br>\n",
    "_DTU - **Technical University of Denmark**_  \n",
    "_Due date - **01/11/2022**_ <br>\n",
    "_Students - **Nikos Karageorgos, John Manganas, Georgios Panagiotopoulos**_"
   ]
  },
  {
   "cell_type": "markdown",
   "metadata": {
    "id": "Uc-d1NXnUj34"
   },
   "source": [
    "---\n",
    "\n",
    "## Table of Contents:\n",
    "- [__Part 0: Data__](#0.)\n",
    "\n",
    "- [__Part 1: Basic Stats__](#1.)\n",
    "\n",
    "- [__Part 2: Communities__](#2.)\n",
    "\n",
    "- [__Part 3: Sentiment__](#3.)\n",
    "\n",
    "---"
   ]
  },
  {
   "cell_type": "markdown",
   "metadata": {
    "id": "SRplCS_D68eh"
   },
   "source": [
    "# Introduction  \n",
    "\n",
    "In Assignment 2 we will be working with Superheroes from the comics series of Marvel and DC. Each hero's data is the text from the corresponding Wikipedia page.  \n",
    "In [Part 0](#0.) the functions and code used to extract the data for each superhero is presented. In [Part 1](#1.) the basic sstatistics and visualisations from the produced network are illustrated. [Part 2](#2.) explores the community structure of the network and finally, in [Part 3](#3.) sentiment analysis is implemented for the 'good' and 'bad' heroes.  \n",
    "\n",
    "For this notebook, the questions will be shown as indented text, as follows:\n",
    "\n",
    "> Question \n",
    "\n",
    "The answers are shown in the subsequent text cell , starting with __Answer__: "
   ]
  },
  {
   "cell_type": "markdown",
   "metadata": {
    "id": "rxWLEVHAd3JW"
   },
   "source": [
    "Before starting, we install and import of the necessary libraries:"
   ]
  },
  {
   "cell_type": "code",
   "execution_count": 6,
   "metadata": {
    "id": "1i0MibzBd5tA"
   },
   "outputs": [],
   "source": [
    "from io import BytesIO\n",
    "import requests\n",
    "import pandas as pd\n",
    "from sqlalchemy import create_engine\n",
    "import re\n",
    "import matplotlib.pyplot as plt\n",
    "%matplotlib inline\n",
    "import pickle\n",
    "import numpy as np\n",
    "from tqdm.notebook import tqdm\n",
    "import networkx as nx"
   ]
  },
  {
   "cell_type": "markdown",
   "metadata": {
    "id": "myMo0iTa-xtC"
   },
   "source": [
    "Our work has been made easier by the provision of the names and wikilinks of the characters for both the DC and Marvel Universes. This data is stored as `.csv` files at the github page of the course for the [Marvel](https://github.com/SocialComplexityLab/socialgraphs2022/blob/main/files/marvel.csv) and [DC](https://github.com/SocialComplexityLab/socialgraphs2022/blob/main/files/dc.csv) universes. We have created the text files and uploaded them to a [public github repository](https://github.com/gpanagioto/projects_socialgraphs22/tree/main/Assignment2/Txt_files)."
   ]
  },
  {
   "cell_type": "markdown",
   "metadata": {
    "id": "6Aw-JkV5eDxF"
   },
   "source": [
    "Our DC and Marvel superhero dataset after the proper extraction have been stored in a cloud PostgreSQL Database, easily and quickly accessible."
   ]
  },
  {
   "cell_type": "code",
   "execution_count": 7,
   "metadata": {
    "id": "iWKn5jlGd_Sz"
   },
   "outputs": [],
   "source": [
    "# Defining function for importing data from the cloud DB. The function returns two dataframes, one for each universe with two columns character_name, wiki_text\n",
    "def DataImport(table_name):\n",
    "  host=\"ec2-54-75-184-144.eu-west-1.compute.amazonaws.com\"\n",
    "  port=\"5432\" \n",
    "  dbname=\"dab1kopm5t3l06\"\n",
    "  user=\"kpervzhazofybh\" \n",
    "  password=\"0d1b5470c51c481880eed267865a8529bdc671f8cb90702d6dcb9e7c199d02ee\"\n",
    "\n",
    "  Engine   = create_engine('postgresql+psycopg2://{}:{}@{}:{}/{}'.format(user,password,host,port,dbname))\n",
    "\n",
    "  # Connect to PostgreSQL server\n",
    "  dbConnection = Engine.connect();\n",
    "\n",
    "  # Read data from PostgreSQL database table and load into a DataFrame instance\n",
    "  df = pd.read_sql(\"select * from {}\".format(table_name), dbConnection)\n",
    "  pd.set_option('display.expand_frame_repr', False)\n",
    "\n",
    "  return df"
   ]
  },
  {
   "cell_type": "markdown",
   "metadata": {},
   "source": [
    "The network has been saved as a `.gpickle` file and is available from the [repository](https://github.com/gpanagioto/projects_socialgraphs22/blob/main/Assignment2/SuperHeroesGraph.gpickle). In the following cell, this file is loaded and the DiGraph `G` contains the information for the superheroes network."
   ]
  },
  {
   "cell_type": "code",
   "execution_count": 8,
   "metadata": {
    "id": "JXLtoj0meIne"
   },
   "outputs": [],
   "source": [
    "# Our Network has been stored as a pickle file in our GitHub Repository of this second assignment\n",
    "mLink = 'https://github.com/gpanagioto/projects_socialgraphs22/blob/main/Assignment2/SuperHeroesGraph.gpickle?raw=true'\n",
    "mfile = BytesIO(requests.get(mLink).content)\n",
    "G = pickle.load(mfile)\n",
    "\n",
    "#G_dir = pickle.load(open('/content/drive/MyDrive/DTU/02805 Social graphs and interactions/SuperHeroesGraph.gpickle', 'rb'))"
   ]
  },
  {
   "cell_type": "markdown",
   "metadata": {},
   "source": [
    "Finally, the edge list for the generated network, prior to removing any nodes, has been stored in `.pickle` format in the [same public repository](https://github.com/gpanagioto/projects_socialgraphs22/blob/main/Assignment2/superheroes_edgelist.pickle). To recreate the network, the file `superheroes_edgelist.pickle` is loaded to a vriable using the `pickle` module. Then the graph is created by using `networkx`'s function [`from_edgelist`](https://networkx.org/documentation/stable/reference/generated/networkx.convert.from_edgelist.html), passing the optional argument `create_using=nx.DiGraph`."
   ]
  },
  {
   "cell_type": "markdown",
   "metadata": {
    "id": "1BetzHRgQnKN"
   },
   "source": [
    "<a id='0.'></a>\n",
    "# Part 0: Data \n"
   ]
  },
  {
   "cell_type": "markdown",
   "metadata": {
    "id": "PuSNOpI_diyS"
   },
   "source": [
    "* Write a short paragraph describing the network. The paragraph should contain the following information\n",
    "\n",
    "  * The number of nodes and links.\n",
    "  * The average, median, mode, minimum and maximum value of the network's in-degree.s And of the out-degrees."
   ]
  },
  {
   "cell_type": "code",
   "execution_count": null,
   "metadata": {
    "id": "BvfAYJQWmroB"
   },
   "outputs": [],
   "source": [
    "def Measures(Graph, TypeOfDegree, Data):\n",
    "\n",
    "  if TypeOfDegree == 'In':\n",
    "    values = list(dict(Graph.in_degree(Data)).values())\n",
    "  else:\n",
    "    values = list(dict(Graph.out_degree(Data)).values())\n",
    "  \n",
    "  mean = np.mean(values)\n",
    "  print(\"The average value is {}.\".format(mean))\n",
    "  median = np.median(values)\n",
    "  print(\"\\nThe median is {}.\".format(median))\n",
    "  mode = st.mode(values)\n",
    "  print(\"\\nThe mode is {}.\".format(list(mode)[0][0]))\n",
    "  min = np.min(values)\n",
    "  print(\"\\nThe min is {}.\".format(min))\n",
    "  max = np.max(values)\n",
    "  print(\"\\nThe max is {}.\".format(max))\n",
    "\n",
    "  return mean, median, list(mode)[0][0], min, max  "
   ]
  },
  {
   "cell_type": "code",
   "execution_count": null,
   "metadata": {
    "colab": {
     "base_uri": "https://localhost:8080/"
    },
    "id": "e-CsKgCckVeN",
    "outputId": "e2edff59-0164-44c9-f18b-86fcdffde410"
   },
   "outputs": [
    {
     "name": "stdout",
     "output_type": "stream",
     "text": [
      "The number of nodes of the network are 2538. The number of edges of the network are 29998.\n"
     ]
    }
   ],
   "source": [
    "print('The number of nodes of the network are {}. The number of edges of the network are {}.'.format(G.number_of_nodes(),G.number_of_edges()))"
   ]
  },
  {
   "cell_type": "code",
   "execution_count": null,
   "metadata": {
    "colab": {
     "base_uri": "https://localhost:8080/"
    },
    "id": "1iMn5EholxyM",
    "outputId": "4c28d26d-d58b-400b-a801-53e8fbf5489c"
   },
   "outputs": [
    {
     "name": "stdout",
     "output_type": "stream",
     "text": [
      "The average value is 11.819542947202521.\n",
      "\n",
      "The median is 4.0.\n",
      "\n",
      "The mode is 1.\n",
      "\n",
      "The min is 0.\n",
      "\n",
      "The max is 448.\n"
     ]
    }
   ],
   "source": [
    "Data = list(G.nodes())\n",
    "TypeOfDegree = 'In'\n",
    "average, median, mode, min, max = Measures(G, TypeOfDegree, Data)"
   ]
  },
  {
   "cell_type": "code",
   "execution_count": null,
   "metadata": {
    "colab": {
     "base_uri": "https://localhost:8080/"
    },
    "id": "0QieKDEDmOnJ",
    "outputId": "8552c34f-af68-4567-ab4b-5780d0f625e6"
   },
   "outputs": [
    {
     "name": "stdout",
     "output_type": "stream",
     "text": [
      "The average value is 11.819542947202521.\n",
      "\n",
      "The median is 7.0.\n",
      "\n",
      "The mode is 0.\n",
      "\n",
      "The min is 0.\n",
      "\n",
      "The max is 112.\n"
     ]
    }
   ],
   "source": [
    "Data = list(G.nodes())\n",
    "TypeOfDegree = 'Out'\n",
    "average, median, mode, min, max = Measures(G, TypeOfDegree, Data)"
   ]
  },
  {
   "cell_type": "markdown",
   "metadata": {
    "id": "qQwRiL-WkTti"
   },
   "source": [
    "* We also want the degree distributions and a plot of the network\n",
    "\n",
    "  * Create in- and out-going degree distributions as described in Lecture 5.\n",
    "  * Estimate the slope of the incoming degree distribtion as described in Lecture 5.\n",
    "  * Plot the network using the Force Atlas algorithm as described in Lecture 5.\n"
   ]
  },
  {
   "cell_type": "code",
   "execution_count": null,
   "metadata": {
    "id": "ZLY-BcrNbcXK"
   },
   "outputs": [],
   "source": []
  }
 ],
 "metadata": {
  "colab": {
   "collapsed_sections": [],
   "provenance": []
  },
  "kernelspec": {
   "display_name": "Python 3 (ipykernel)",
   "language": "python",
   "name": "python3"
  },
  "language_info": {
   "codemirror_mode": {
    "name": "ipython",
    "version": 3
   },
   "file_extension": ".py",
   "mimetype": "text/x-python",
   "name": "python",
   "nbconvert_exporter": "python",
   "pygments_lexer": "ipython3",
   "version": "3.9.12"
  }
 },
 "nbformat": 4,
 "nbformat_minor": 1
}
