{
 "cells": [
  {
   "cell_type": "markdown",
   "id": "af903ae1",
   "metadata": {},
   "source": [
    "As a first step, the names of all characters of the show [South Park](https://en.wikipedia.org/wiki/South_Park) are gathered. They are saved in a pandas DataFrame, with the name in the first column `['name']` and each character's wikilink in the second column `['wikilink']`. The associated text is also stored in subsequent columns. The DataFrame is pickled finally pickled. To this end, the Wikipedia article [List of South Park characters](https://en.wikipedia.org/wiki/List_of_South_Park_characters) is used."
   ]
  },
  {
   "cell_type": "code",
   "execution_count": 40,
   "id": "490c19af",
   "metadata": {},
   "outputs": [],
   "source": [
    "# Imports\n",
    "import pandas as pd\n",
    "import urllib.request\n",
    "from bs4 import BeautifulSoup\n",
    "import json\n",
    "import pickle\n",
    "import requests\n",
    "from tqdm.notebook import tqdm"
   ]
  },
  {
   "cell_type": "markdown",
   "id": "5a4cced1",
   "metadata": {},
   "source": [
    "In [List of South Park characters](https://en.wikipedia.org/wiki/List_of_South_Park_characters), the following sections list the characters and their links, alongside some character synopsis for some of the characters:  \n",
    "- Main characters  \n",
    "- Secondary characters  \n",
    "- Recurring characters  \n",
    "  - Significant characters (in table format)  \n",
    "  - Other characters (in table format)  \n",
    "- Former characters (characters that are either killed or retired, in table format)  \n",
    "\n",
    "Since there are many links inside also the descriptions, beautiful soup will be used to get the aforementioned parts."
   ]
  },
  {
   "cell_type": "code",
   "execution_count": 41,
   "id": "18f7d264",
   "metadata": {},
   "outputs": [],
   "source": [
    "# Wikipedia url that contains all the characters\n",
    "wiki_url = 'https://en.wikipedia.org/wiki/List_of_South_Park_characters'\n",
    "\n",
    "# Get raw html page\n",
    "raw_html = requests.get(wiki_url)\n",
    "\n",
    "# Use bs4 to prettify and make easier to find sections\n",
    "soup = BeautifulSoup(raw_html.text, 'html.parser')"
   ]
  },
  {
   "cell_type": "code",
   "execution_count": null,
   "id": "101e8ced",
   "metadata": {},
   "outputs": [],
   "source": []
  },
  {
   "cell_type": "code",
   "execution_count": 42,
   "id": "b27d9c15",
   "metadata": {
    "scrolled": true
   },
   "outputs": [
    {
     "name": "stdout",
     "output_type": "stream",
     "text": [
      "<h3><span class=\"mw-headline\" id=\"Cast\">Cast</span><span class=\"mw-editsection\"><span class=\"mw-editsection-bracket\">[</span><a href=\"/w/index.php?title=List_of_South_Park_characters&amp;action=edit&amp;section=2\" title=\"Edit section: Cast\">edit</a><span class=\"mw-editsection-bracket\">]</span></span></h3>\n",
      "<h3><span class=\"mw-headline\" id=\"Stan_Marsh\">Stan Marsh</span><span class=\"mw-editsection\"><span class=\"mw-editsection-bracket\">[</span><a href=\"/w/index.php?title=List_of_South_Park_characters&amp;action=edit&amp;section=4\" title=\"Edit section: Stan Marsh\">edit</a><span class=\"mw-editsection-bracket\">]</span></span></h3>\n",
      "<h3><span class=\"mw-headline\" id=\"Kyle_Broflovski\">Kyle Broflovski</span><span class=\"mw-editsection\"><span class=\"mw-editsection-bracket\">[</span><a href=\"/w/index.php?title=List_of_South_Park_characters&amp;action=edit&amp;section=5\" title=\"Edit section: Kyle Broflovski\">edit</a><span class=\"mw-editsection-bracket\">]</span></span></h3>\n",
      "<h3><span class=\"mw-headline\" id=\"Eric_Cartman\">Eric Cartman</span><span class=\"mw-editsection\"><span class=\"mw-editsection-bracket\">[</span><a href=\"/w/index.php?title=List_of_South_Park_characters&amp;action=edit&amp;section=6\" title=\"Edit section: Eric Cartman\">edit</a><span class=\"mw-editsection-bracket\">]</span></span></h3>\n",
      "<h3><span class=\"mw-headline\" id=\"Kenny_McCormick\">Kenny McCormick</span><span class=\"mw-editsection\"><span class=\"mw-editsection-bracket\">[</span><a href=\"/w/index.php?title=List_of_South_Park_characters&amp;action=edit&amp;section=7\" title=\"Edit section: Kenny McCormick\">edit</a><span class=\"mw-editsection-bracket\">]</span></span></h3>\n",
      "<h3><span class=\"mw-headline\" id=\"Butters_Stotch\">Butters Stotch</span><span class=\"mw-editsection\"><span class=\"mw-editsection-bracket\">[</span><a href=\"/w/index.php?title=List_of_South_Park_characters&amp;action=edit&amp;section=9\" title=\"Edit section: Butters Stotch\">edit</a><span class=\"mw-editsection-bracket\">]</span></span></h3>\n",
      "<h3><span class=\"mw-headline\" id=\"Randy_and_Sharon_Marsh\">Randy and Sharon Marsh</span><span class=\"mw-editsection\"><span class=\"mw-editsection-bracket\">[</span><a href=\"/w/index.php?title=List_of_South_Park_characters&amp;action=edit&amp;section=10\" title=\"Edit section: Randy and Sharon Marsh\">edit</a><span class=\"mw-editsection-bracket\">]</span></span></h3>\n",
      "<h3><span class=\"mw-headline\" id=\"Herbert_Garrison\">Herbert Garrison</span><span class=\"mw-editsection\"><span class=\"mw-editsection-bracket\">[</span><a href=\"/w/index.php?title=List_of_South_Park_characters&amp;action=edit&amp;section=11\" title=\"Edit section: Herbert Garrison\">edit</a><span class=\"mw-editsection-bracket\">]</span></span></h3>\n",
      "<h3><span class=\"mw-headline\" id=\"Gerald_and_Sheila_Broflovski\">Gerald and Sheila Broflovski</span><span class=\"mw-editsection\"><span class=\"mw-editsection-bracket\">[</span><a href=\"/w/index.php?title=List_of_South_Park_characters&amp;action=edit&amp;section=12\" title=\"Edit section: Gerald and Sheila Broflovski\">edit</a><span class=\"mw-editsection-bracket\">]</span></span></h3>\n",
      "<h3><span class=\"mw-headline\" id=\"Jimmy_Valmer\">Jimmy Valmer</span><span class=\"mw-editsection\"><span class=\"mw-editsection-bracket\">[</span><a href=\"/w/index.php?title=List_of_South_Park_characters&amp;action=edit&amp;section=13\" title=\"Edit section: Jimmy Valmer\">edit</a><span class=\"mw-editsection-bracket\">]</span></span></h3>\n",
      "<h3><span class=\"mw-headline\" id=\"Wendy_Testaburger\">Wendy Testaburger</span><span class=\"mw-editsection\"><span class=\"mw-editsection-bracket\">[</span><a href=\"/w/index.php?title=List_of_South_Park_characters&amp;action=edit&amp;section=14\" title=\"Edit section: Wendy Testaburger\">edit</a><span class=\"mw-editsection-bracket\">]</span></span></h3>\n",
      "<h3><span class=\"mw-headline\" id=\"Significant_characters\">Significant characters</span><span class=\"mw-editsection\"><span class=\"mw-editsection-bracket\">[</span><a href=\"/w/index.php?title=List_of_South_Park_characters&amp;action=edit&amp;section=16\" title=\"Edit section: Significant characters\">edit</a><span class=\"mw-editsection-bracket\">]</span></span></h3>\n",
      "<h3><span class=\"mw-headline\" id=\"Other_characters\">Other characters</span><span class=\"mw-editsection\"><span class=\"mw-editsection-bracket\">[</span><a href=\"/w/index.php?title=List_of_South_Park_characters&amp;action=edit&amp;section=17\" title=\"Edit section: Other characters\">edit</a><span class=\"mw-editsection-bracket\">]</span></span></h3>\n"
     ]
    }
   ],
   "source": [
    "for article in soup.find_all('div', class_='mw-parser-output'):\n",
    "    headline = article.find_all('h3')\n",
    "    for head in headline:\n",
    "        print(head)\n",
    "    \n"
   ]
  },
  {
   "cell_type": "code",
   "execution_count": 43,
   "id": "d1ee9bbb",
   "metadata": {},
   "outputs": [
    {
     "name": "stdout",
     "output_type": "stream",
     "text": [
      "<div class=\"hatnote navigation-not-searchable\" role=\"note\">\n",
      " Main article:\n",
      " <a href=\"/wiki/Stan_Marsh\" title=\"Stan Marsh\">\n",
      "  Stan Marsh\n",
      " </a>\n",
      "</div>\n",
      "\n",
      "<div class=\"hatnote navigation-not-searchable\" role=\"note\">\n",
      " Main article:\n",
      " <a href=\"/wiki/Kyle_Broflovski\" title=\"Kyle Broflovski\">\n",
      "  Kyle Broflovski\n",
      " </a>\n",
      "</div>\n",
      "\n",
      "<div class=\"hatnote navigation-not-searchable\" role=\"note\">\n",
      " Main article:\n",
      " <a href=\"/wiki/Eric_Cartman\" title=\"Eric Cartman\">\n",
      "  Eric Cartman\n",
      " </a>\n",
      "</div>\n",
      "\n",
      "<div class=\"hatnote navigation-not-searchable\" role=\"note\">\n",
      " Main article:\n",
      " <a href=\"/wiki/Kenny_McCormick\" title=\"Kenny McCormick\">\n",
      "  Kenny McCormick\n",
      " </a>\n",
      "</div>\n",
      "\n",
      "<div class=\"hatnote navigation-not-searchable\" role=\"note\">\n",
      " Main article:\n",
      " <a href=\"/wiki/Butters_Stotch\" title=\"Butters Stotch\">\n",
      "  Butters Stotch\n",
      " </a>\n",
      "</div>\n",
      "\n",
      "<div class=\"hatnote navigation-not-searchable\" role=\"note\">\n",
      " Main article:\n",
      " <a href=\"/wiki/Randy_and_Sharon_Marsh\" title=\"Randy and Sharon Marsh\">\n",
      "  Randy and Sharon Marsh\n",
      " </a>\n",
      "</div>\n",
      "\n",
      "<div class=\"hatnote navigation-not-searchable\" role=\"note\">\n",
      " Main article:\n",
      " <a href=\"/wiki/Mr._Garrison\" title=\"Mr. Garrison\">\n",
      "  Mr. Garrison\n",
      " </a>\n",
      "</div>\n",
      "\n",
      "<div class=\"hatnote navigation-not-searchable\" role=\"note\">\n",
      " Main article:\n",
      " <a href=\"/wiki/Gerald_and_Sheila_Broflovski\" title=\"Gerald and Sheila Broflovski\">\n",
      "  Gerald and Sheila Broflovski\n",
      " </a>\n",
      "</div>\n",
      "\n",
      "<div class=\"hatnote navigation-not-searchable\" role=\"note\">\n",
      " Main article:\n",
      " <a href=\"/wiki/Jimmy_Valmer\" title=\"Jimmy Valmer\">\n",
      "  Jimmy Valmer\n",
      " </a>\n",
      "</div>\n",
      "\n",
      "<div class=\"hatnote navigation-not-searchable\" role=\"note\">\n",
      " Main article:\n",
      " <a href=\"/wiki/Wendy_Testaburger\" title=\"Wendy Testaburger\">\n",
      "  Wendy Testaburger\n",
      " </a>\n",
      "</div>\n",
      "\n",
      "<div class=\"hatnote navigation-not-searchable\" role=\"note\">\n",
      " Main articles:\n",
      " <a href=\"/wiki/List_of_students_at_South_Park_Elementary\" title=\"List of students at South Park Elementary\">\n",
      "  List of students at South Park Elementary\n",
      " </a>\n",
      " ,\n",
      " <a href=\"/wiki/List_of_South_Park_families\" title=\"List of South Park families\">\n",
      "  List of South Park families\n",
      " </a>\n",
      " , and\n",
      " <a href=\"/wiki/List_of_South_Park_Elementary_staff\" title=\"List of South Park Elementary staff\">\n",
      "  List of South Park Elementary staff\n",
      " </a>\n",
      "</div>\n",
      "\n",
      "<div class=\"hatnote navigation-not-searchable\" role=\"note\">\n",
      " Main article:\n",
      " <a href=\"/wiki/List_of_recurring_South_Park_characters\" title=\"List of recurring South Park characters\">\n",
      "  List of recurring South Park characters\n",
      " </a>\n",
      "</div>\n",
      "\n"
     ]
    }
   ],
   "source": [
    "for article in soup.find_all('div', class_='hatnote'):\n",
    "    print(article.prettify())"
   ]
  },
  {
   "cell_type": "markdown",
   "id": "a93116e7",
   "metadata": {},
   "source": [
    "Use [fandom](https://southpark.fandom.com/wiki/Category:Characters)"
   ]
  },
  {
   "cell_type": "code",
   "execution_count": 44,
   "id": "873d6286",
   "metadata": {},
   "outputs": [],
   "source": [
    "chars_url = 'https://southpark.fandom.com/wiki/Portal:Characters'\n",
    "raw_html = requests.get(chars_url)\n",
    "\n",
    "soup = BeautifulSoup(raw_html.text, 'html.parser')"
   ]
  },
  {
   "cell_type": "code",
   "execution_count": 45,
   "id": "20c69ad0",
   "metadata": {},
   "outputs": [],
   "source": [
    "# Create the base url that is combined with\n",
    "# each characters; unique url\n",
    "base_url = 'https://southpark.fandom.com'"
   ]
  },
  {
   "cell_type": "code",
   "execution_count": 46,
   "id": "a9c269c8",
   "metadata": {},
   "outputs": [],
   "source": [
    "# Initiate a dictionary for each character and its link\n",
    "chars_dict = {}"
   ]
  },
  {
   "cell_type": "code",
   "execution_count": 47,
   "id": "4b3888c7",
   "metadata": {},
   "outputs": [],
   "source": [
    "for char_letter in soup.find_all('div', class_='wikia-gallery'):\n",
    "    characters = char_letter.find_all('div', class_='lightbox-caption')\n",
    "    for character in characters:\n",
    "        char_name = character.text\n",
    "        if char_name not in list(chars_dict.keys()): # Avoid duplicates due to trending characters on top of page\n",
    "            chars_dict[char_name] = base_url+character.a['href']"
   ]
  },
  {
   "cell_type": "markdown",
   "id": "2227dc95",
   "metadata": {},
   "source": [
    "Now that I have all the characters links, I create a `pandas` DataFrame from it."
   ]
  },
  {
   "cell_type": "code",
   "execution_count": 48,
   "id": "19dc9925",
   "metadata": {},
   "outputs": [],
   "source": [
    "characters_df = pd.DataFrame.from_dict( {'name':chars_dict.keys(), 'link':chars_dict.values()} )\n",
    "\n",
    "# Set the index to be the name column for ease of use later\n",
    "characters_df_nameidx =  characters_df.set_index('name')"
   ]
  },
  {
   "cell_type": "code",
   "execution_count": 49,
   "id": "5e146f07",
   "metadata": {},
   "outputs": [
    {
     "data": {
      "text/html": [
       "<div>\n",
       "<style scoped>\n",
       "    .dataframe tbody tr th:only-of-type {\n",
       "        vertical-align: middle;\n",
       "    }\n",
       "\n",
       "    .dataframe tbody tr th {\n",
       "        vertical-align: top;\n",
       "    }\n",
       "\n",
       "    .dataframe thead th {\n",
       "        text-align: right;\n",
       "    }\n",
       "</style>\n",
       "<table border=\"1\" class=\"dataframe\">\n",
       "  <thead>\n",
       "    <tr style=\"text-align: right;\">\n",
       "      <th></th>\n",
       "      <th>name</th>\n",
       "      <th>link</th>\n",
       "    </tr>\n",
       "  </thead>\n",
       "  <tbody>\n",
       "    <tr>\n",
       "      <th>0</th>\n",
       "      <td>Eric Cartman</td>\n",
       "      <td>https://southpark.fandom.com/wiki/Eric_Cartman</td>\n",
       "    </tr>\n",
       "    <tr>\n",
       "      <th>1</th>\n",
       "      <td>Kenny McCormick</td>\n",
       "      <td>https://southpark.fandom.com/wiki/Kenny_McCormick</td>\n",
       "    </tr>\n",
       "    <tr>\n",
       "      <th>2</th>\n",
       "      <td>Kyle Broflovski</td>\n",
       "      <td>https://southpark.fandom.com/wiki/Kyle_Broflovski</td>\n",
       "    </tr>\n",
       "    <tr>\n",
       "      <th>3</th>\n",
       "      <td>Stan Marsh</td>\n",
       "      <td>https://southpark.fandom.com/wiki/Stan_Marsh</td>\n",
       "    </tr>\n",
       "    <tr>\n",
       "      <th>4</th>\n",
       "      <td>A 34-Year-Old Asian Man Who Looks Strikingly S...</td>\n",
       "      <td>https://southpark.fandom.com/wiki/A_34-Year-Ol...</td>\n",
       "    </tr>\n",
       "  </tbody>\n",
       "</table>\n",
       "</div>"
      ],
      "text/plain": [
       "                                                name  \\\n",
       "0                                       Eric Cartman   \n",
       "1                                    Kenny McCormick   \n",
       "2                                    Kyle Broflovski   \n",
       "3                                         Stan Marsh   \n",
       "4  A 34-Year-Old Asian Man Who Looks Strikingly S...   \n",
       "\n",
       "                                                link  \n",
       "0     https://southpark.fandom.com/wiki/Eric_Cartman  \n",
       "1  https://southpark.fandom.com/wiki/Kenny_McCormick  \n",
       "2  https://southpark.fandom.com/wiki/Kyle_Broflovski  \n",
       "3       https://southpark.fandom.com/wiki/Stan_Marsh  \n",
       "4  https://southpark.fandom.com/wiki/A_34-Year-Ol...  "
      ]
     },
     "execution_count": 49,
     "metadata": {},
     "output_type": "execute_result"
    }
   ],
   "source": [
    "characters_df.head(5)"
   ]
  },
  {
   "cell_type": "code",
   "execution_count": 50,
   "id": "a55adf6d",
   "metadata": {},
   "outputs": [
    {
     "name": "stdout",
     "output_type": "stream",
     "text": [
      "There are 2056 characters\n"
     ]
    }
   ],
   "source": [
    "print(f\"There are {characters_df.shape[0]} characters\")"
   ]
  },
  {
   "cell_type": "code",
   "execution_count": 51,
   "id": "3a2f43aa",
   "metadata": {},
   "outputs": [
    {
     "data": {
      "text/html": [
       "<div>\n",
       "<style scoped>\n",
       "    .dataframe tbody tr th:only-of-type {\n",
       "        vertical-align: middle;\n",
       "    }\n",
       "\n",
       "    .dataframe tbody tr th {\n",
       "        vertical-align: top;\n",
       "    }\n",
       "\n",
       "    .dataframe thead th {\n",
       "        text-align: right;\n",
       "    }\n",
       "</style>\n",
       "<table border=\"1\" class=\"dataframe\">\n",
       "  <thead>\n",
       "    <tr style=\"text-align: right;\">\n",
       "      <th></th>\n",
       "      <th>link</th>\n",
       "    </tr>\n",
       "    <tr>\n",
       "      <th>name</th>\n",
       "      <th></th>\n",
       "    </tr>\n",
       "  </thead>\n",
       "  <tbody>\n",
       "    <tr>\n",
       "      <th>Eric Cartman</th>\n",
       "      <td>https://southpark.fandom.com/wiki/Eric_Cartman</td>\n",
       "    </tr>\n",
       "    <tr>\n",
       "      <th>Kenny McCormick</th>\n",
       "      <td>https://southpark.fandom.com/wiki/Kenny_McCormick</td>\n",
       "    </tr>\n",
       "    <tr>\n",
       "      <th>Kyle Broflovski</th>\n",
       "      <td>https://southpark.fandom.com/wiki/Kyle_Broflovski</td>\n",
       "    </tr>\n",
       "    <tr>\n",
       "      <th>Stan Marsh</th>\n",
       "      <td>https://southpark.fandom.com/wiki/Stan_Marsh</td>\n",
       "    </tr>\n",
       "    <tr>\n",
       "      <th>A 34-Year-Old Asian Man Who Looks Strikingly Similar to Ricardo Montalbán</th>\n",
       "      <td>https://southpark.fandom.com/wiki/A_34-Year-Ol...</td>\n",
       "    </tr>\n",
       "  </tbody>\n",
       "</table>\n",
       "</div>"
      ],
      "text/plain": [
       "                                                                                                 link\n",
       "name                                                                                                 \n",
       "Eric Cartman                                           https://southpark.fandom.com/wiki/Eric_Cartman\n",
       "Kenny McCormick                                     https://southpark.fandom.com/wiki/Kenny_McCormick\n",
       "Kyle Broflovski                                     https://southpark.fandom.com/wiki/Kyle_Broflovski\n",
       "Stan Marsh                                               https://southpark.fandom.com/wiki/Stan_Marsh\n",
       "A 34-Year-Old Asian Man Who Looks Strikingly Si...  https://southpark.fandom.com/wiki/A_34-Year-Ol..."
      ]
     },
     "execution_count": 51,
     "metadata": {},
     "output_type": "execute_result"
    }
   ],
   "source": [
    "characters_df_nameidx.head(5)"
   ]
  },
  {
   "cell_type": "markdown",
   "id": "e98af9c1",
   "metadata": {},
   "source": [
    "Also create a column that stores the first name of the characters. The major ones are called by their first names. I do not care if I miss some secondary ones."
   ]
  },
  {
   "cell_type": "code",
   "execution_count": 52,
   "id": "9ad37c7c",
   "metadata": {},
   "outputs": [
    {
     "data": {
      "text/html": [
       "<div>\n",
       "<style scoped>\n",
       "    .dataframe tbody tr th:only-of-type {\n",
       "        vertical-align: middle;\n",
       "    }\n",
       "\n",
       "    .dataframe tbody tr th {\n",
       "        vertical-align: top;\n",
       "    }\n",
       "\n",
       "    .dataframe thead th {\n",
       "        text-align: right;\n",
       "    }\n",
       "</style>\n",
       "<table border=\"1\" class=\"dataframe\">\n",
       "  <thead>\n",
       "    <tr style=\"text-align: right;\">\n",
       "      <th></th>\n",
       "      <th>link</th>\n",
       "    </tr>\n",
       "    <tr>\n",
       "      <th>name</th>\n",
       "      <th></th>\n",
       "    </tr>\n",
       "  </thead>\n",
       "  <tbody>\n",
       "    <tr>\n",
       "      <th>Eric Cartman</th>\n",
       "      <td>https://southpark.fandom.com/wiki/Eric_Cartman</td>\n",
       "    </tr>\n",
       "    <tr>\n",
       "      <th>Kenny McCormick</th>\n",
       "      <td>https://southpark.fandom.com/wiki/Kenny_McCormick</td>\n",
       "    </tr>\n",
       "    <tr>\n",
       "      <th>Kyle Broflovski</th>\n",
       "      <td>https://southpark.fandom.com/wiki/Kyle_Broflovski</td>\n",
       "    </tr>\n",
       "    <tr>\n",
       "      <th>Stan Marsh</th>\n",
       "      <td>https://southpark.fandom.com/wiki/Stan_Marsh</td>\n",
       "    </tr>\n",
       "    <tr>\n",
       "      <th>A 34-Year-Old Asian Man Who Looks Strikingly Similar to Ricardo Montalbán</th>\n",
       "      <td>https://southpark.fandom.com/wiki/A_34-Year-Ol...</td>\n",
       "    </tr>\n",
       "    <tr>\n",
       "      <th>...</th>\n",
       "      <td>...</td>\n",
       "    </tr>\n",
       "    <tr>\n",
       "      <th>6th Grader with Yellow Shirt and Brown Pants</th>\n",
       "      <td>https://southpark.fandom.com/wiki/6th_Grader_w...</td>\n",
       "    </tr>\n",
       "    <tr>\n",
       "      <th>911 Operator</th>\n",
       "      <td>https://southpark.fandom.com/wiki/911_Operator</td>\n",
       "    </tr>\n",
       "    <tr>\n",
       "      <th>911 Truth Webmaster</th>\n",
       "      <td>https://southpark.fandom.com/wiki/911_Truth_We...</td>\n",
       "    </tr>\n",
       "    <tr>\n",
       "      <th>9th Grader with Purple Shirt</th>\n",
       "      <td>https://southpark.fandom.com/wiki/9th_Grader_w...</td>\n",
       "    </tr>\n",
       "    <tr>\n",
       "      <th>9th Grader with Red Hood</th>\n",
       "      <td>https://southpark.fandom.com/wiki/9th_Grader_w...</td>\n",
       "    </tr>\n",
       "  </tbody>\n",
       "</table>\n",
       "<p>2056 rows × 1 columns</p>\n",
       "</div>"
      ],
      "text/plain": [
       "                                                                                                 link\n",
       "name                                                                                                 \n",
       "Eric Cartman                                           https://southpark.fandom.com/wiki/Eric_Cartman\n",
       "Kenny McCormick                                     https://southpark.fandom.com/wiki/Kenny_McCormick\n",
       "Kyle Broflovski                                     https://southpark.fandom.com/wiki/Kyle_Broflovski\n",
       "Stan Marsh                                               https://southpark.fandom.com/wiki/Stan_Marsh\n",
       "A 34-Year-Old Asian Man Who Looks Strikingly Si...  https://southpark.fandom.com/wiki/A_34-Year-Ol...\n",
       "...                                                                                               ...\n",
       "6th Grader with Yellow Shirt and Brown Pants        https://southpark.fandom.com/wiki/6th_Grader_w...\n",
       "911 Operator                                           https://southpark.fandom.com/wiki/911_Operator\n",
       "911 Truth Webmaster                                 https://southpark.fandom.com/wiki/911_Truth_We...\n",
       "9th Grader with Purple Shirt                        https://southpark.fandom.com/wiki/9th_Grader_w...\n",
       "9th Grader with Red Hood                            https://southpark.fandom.com/wiki/9th_Grader_w...\n",
       "\n",
       "[2056 rows x 1 columns]"
      ]
     },
     "execution_count": 52,
     "metadata": {},
     "output_type": "execute_result"
    }
   ],
   "source": [
    "characters_df_nameidx[:]"
   ]
  },
  {
   "cell_type": "code",
   "execution_count": 53,
   "id": "5245166a",
   "metadata": {},
   "outputs": [],
   "source": [
    "# characters_df_nameidx['name'].apply(lambda x: x.split(' ', 1)[0] if len(x.split(\" \"))<3 else x)"
   ]
  },
  {
   "cell_type": "code",
   "execution_count": 54,
   "id": "a9a7c878",
   "metadata": {},
   "outputs": [],
   "source": [
    "characters_df_nameidx['first_name'] = characters_df['name'].apply(lambda x: x.split(' ', 1)[0] if len(x.split(\" \"))<3 else x)"
   ]
  },
  {
   "cell_type": "code",
   "execution_count": 55,
   "id": "3ca975ed",
   "metadata": {},
   "outputs": [
    {
     "data": {
      "text/html": [
       "<div>\n",
       "<style scoped>\n",
       "    .dataframe tbody tr th:only-of-type {\n",
       "        vertical-align: middle;\n",
       "    }\n",
       "\n",
       "    .dataframe tbody tr th {\n",
       "        vertical-align: top;\n",
       "    }\n",
       "\n",
       "    .dataframe thead th {\n",
       "        text-align: right;\n",
       "    }\n",
       "</style>\n",
       "<table border=\"1\" class=\"dataframe\">\n",
       "  <thead>\n",
       "    <tr style=\"text-align: right;\">\n",
       "      <th></th>\n",
       "      <th>link</th>\n",
       "      <th>first_name</th>\n",
       "    </tr>\n",
       "    <tr>\n",
       "      <th>name</th>\n",
       "      <th></th>\n",
       "      <th></th>\n",
       "    </tr>\n",
       "  </thead>\n",
       "  <tbody>\n",
       "    <tr>\n",
       "      <th>Eric Cartman</th>\n",
       "      <td>https://southpark.fandom.com/wiki/Eric_Cartman</td>\n",
       "      <td>NaN</td>\n",
       "    </tr>\n",
       "    <tr>\n",
       "      <th>Kenny McCormick</th>\n",
       "      <td>https://southpark.fandom.com/wiki/Kenny_McCormick</td>\n",
       "      <td>NaN</td>\n",
       "    </tr>\n",
       "    <tr>\n",
       "      <th>Kyle Broflovski</th>\n",
       "      <td>https://southpark.fandom.com/wiki/Kyle_Broflovski</td>\n",
       "      <td>NaN</td>\n",
       "    </tr>\n",
       "    <tr>\n",
       "      <th>Stan Marsh</th>\n",
       "      <td>https://southpark.fandom.com/wiki/Stan_Marsh</td>\n",
       "      <td>NaN</td>\n",
       "    </tr>\n",
       "    <tr>\n",
       "      <th>A 34-Year-Old Asian Man Who Looks Strikingly Similar to Ricardo Montalbán</th>\n",
       "      <td>https://southpark.fandom.com/wiki/A_34-Year-Ol...</td>\n",
       "      <td>NaN</td>\n",
       "    </tr>\n",
       "  </tbody>\n",
       "</table>\n",
       "</div>"
      ],
      "text/plain": [
       "                                                                                                 link  \\\n",
       "name                                                                                                    \n",
       "Eric Cartman                                           https://southpark.fandom.com/wiki/Eric_Cartman   \n",
       "Kenny McCormick                                     https://southpark.fandom.com/wiki/Kenny_McCormick   \n",
       "Kyle Broflovski                                     https://southpark.fandom.com/wiki/Kyle_Broflovski   \n",
       "Stan Marsh                                               https://southpark.fandom.com/wiki/Stan_Marsh   \n",
       "A 34-Year-Old Asian Man Who Looks Strikingly Si...  https://southpark.fandom.com/wiki/A_34-Year-Ol...   \n",
       "\n",
       "                                                   first_name  \n",
       "name                                                           \n",
       "Eric Cartman                                              NaN  \n",
       "Kenny McCormick                                           NaN  \n",
       "Kyle Broflovski                                           NaN  \n",
       "Stan Marsh                                                NaN  \n",
       "A 34-Year-Old Asian Man Who Looks Strikingly Si...        NaN  "
      ]
     },
     "execution_count": 55,
     "metadata": {},
     "output_type": "execute_result"
    }
   ],
   "source": [
    "characters_df_nameidx.head()"
   ]
  },
  {
   "cell_type": "markdown",
   "id": "6523e20d",
   "metadata": {},
   "source": [
    "Now that we have a pandas dataframe, we can add columns with the text of each character. The text is added by getting it from the corresponding character's link."
   ]
  },
  {
   "cell_type": "code",
   "execution_count": 56,
   "id": "4dfc3b13",
   "metadata": {},
   "outputs": [],
   "source": [
    "def get_char_text_fandom(soup_obj):\n",
    "    char_txt = ''\n",
    "    for part in soup_obj.find_all('div', class_='mw-parser-output'):\n",
    "        paras = part.find_all('p')\n",
    "        for para in paras[2:]:\n",
    "            char_txt+=para.text\n",
    "    \n",
    "#     lsts = part.find_all('ul')\n",
    "#     for lst in lsts:\n",
    "#         print(lst.text)\n",
    "#         print('-'*60)  \n",
    "        \n",
    "        return char_txt"
   ]
  },
  {
   "cell_type": "code",
   "execution_count": 57,
   "id": "3ee55098",
   "metadata": {},
   "outputs": [],
   "source": [
    "def get_list_of_link_titles(soup_obj):\n",
    "    link_list = []\n",
    "    for part in soup_obj.find_all('div', class_='mw-parser-output'):\n",
    "        ps = part.find_all('p')\n",
    "        for p in ps:\n",
    "            links = p.find_all('a')\n",
    "            for link in links:\n",
    "                try:\n",
    "                    link_list.append(link['title'])\n",
    "                except KeyError as e:\n",
    "                    pass           \n",
    "    return link_list"
   ]
  },
  {
   "cell_type": "code",
   "execution_count": 58,
   "id": "5cf991da",
   "metadata": {},
   "outputs": [],
   "source": [
    "try:\n",
    "    with open('characters_df.pickle', 'rb') as f:\n",
    "        characters_df_nameidx = pickle.load(f)\n",
    "\n",
    "except FileNotFoundError as e:\n",
    "    print(e)\n",
    "    print('Generating character dataframe...')    \n",
    "\n",
    "    for character in tqdm(characters_df_nameidx.index.to_list()):\n",
    "        # Get characters url page\n",
    "        char_url = characters_df_nameidx.loc[character, 'link']\n",
    "\n",
    "        # Get the cleaned version of its text\n",
    "        char_text = requests.get(char_url)\n",
    "        soup = BeautifulSoup(char_text.text, 'html.parser')\n",
    "        txt = get_char_text_fandom(soup)\n",
    "\n",
    "        # Store it in the dataframe under a new column, with fandom included in its name\n",
    "        characters_df_nameidx.loc[character, 'fandom_text'] = txt\n",
    "\n",
    "        # Get the link list of each character\n",
    "        link_lst = get_list_of_link_titles(soup)\n",
    "\n",
    "        # Store it in the dataframe under a new column\n",
    "        characters_df_nameidx.at[character, 'links_list'] = link_lst\n",
    "\n",
    "\n",
    "    SAVE = True\n",
    "\n",
    "    if SAVE:\n",
    "        with open('characters_df.pickle', 'wb') as f:\n",
    "            pickle.dump(characters_df_nameidx, f)"
   ]
  },
  {
   "cell_type": "markdown",
   "id": "14f128a5",
   "metadata": {},
   "source": [
    "Now that I have some initial text data for each character, I can start forming a network. But the difficulty lies in the fact that in the text, only the first names or their variations are shown. There is also the case of words such as `boys`, which refer to the characters `Kyle`, `Stan`, `Eric` and `Kenny`, if the latter is still alive. This case is difficult to discover. Moreover, there is a case where a girl is called `Red`, as well as an adult. From fandom, the links can also be searched for interactions, since the first time a character is mentioned, it is linked."
   ]
  },
  {
   "cell_type": "code",
   "execution_count": 59,
   "id": "e4f75f5e",
   "metadata": {},
   "outputs": [],
   "source": [
    "import networkx as nx"
   ]
  },
  {
   "cell_type": "code",
   "execution_count": 60,
   "id": "a37fa9e2",
   "metadata": {},
   "outputs": [],
   "source": [
    "G = nx.DiGraph()"
   ]
  },
  {
   "cell_type": "code",
   "execution_count": 61,
   "id": "c854d0d6",
   "metadata": {},
   "outputs": [],
   "source": [
    "G.add_nodes_from(chars_dict.keys())"
   ]
  },
  {
   "cell_type": "markdown",
   "id": "dac1608e",
   "metadata": {},
   "source": [
    "Now that the network has been created, each text can be parsed and add the edges, in a directed manner. To this end, the following function is defined:"
   ]
  },
  {
   "cell_type": "code",
   "execution_count": 62,
   "id": "2f7129d2",
   "metadata": {},
   "outputs": [
    {
     "data": {
      "application/vnd.jupyter.widget-view+json": {
       "model_id": "78459ac21ac34134b10ea14925135c55",
       "version_major": 2,
       "version_minor": 0
      },
      "text/plain": [
       "  0%|          | 0/2056 [00:00<?, ?it/s]"
      ]
     },
     "metadata": {},
     "output_type": "display_data"
    }
   ],
   "source": [
    "for character in tqdm(characters_df_nameidx.index.to_list()):\n",
    "    for link in characters_df_nameidx.loc[character, 'links_list']:\n",
    "        if link in characters_df_nameidx.index.to_list():\n",
    "            if link != character:\n",
    "                G.add_edge(character, link)"
   ]
  },
  {
   "cell_type": "code",
   "execution_count": 63,
   "id": "52a75f3c",
   "metadata": {},
   "outputs": [],
   "source": [
    "import numpy as np"
   ]
  },
  {
   "cell_type": "code",
   "execution_count": 64,
   "id": "32af1047",
   "metadata": {},
   "outputs": [],
   "source": [
    "out_degrees = np.array([deg for (node, deg) in G.out_degree])\n",
    "in_degrees = np.array([deg for (node, deg) in G.in_degree])"
   ]
  },
  {
   "cell_type": "markdown",
   "id": "382de0aa",
   "metadata": {},
   "source": [
    "Identify the weakly connected characters, that might not be formally part of stories."
   ]
  },
  {
   "cell_type": "code",
   "execution_count": 95,
   "id": "d2a12155",
   "metadata": {},
   "outputs": [],
   "source": [
    "G_weak = nx.weakly_connected_components(G)"
   ]
  },
  {
   "cell_type": "code",
   "execution_count": 96,
   "id": "ca98519c",
   "metadata": {},
   "outputs": [
    {
     "name": "stdout",
     "output_type": "stream",
     "text": [
      "1933\n",
      "1  :  ['Afro Ninja']\n",
      "1  :  ['Alex Glick']\n",
      "1  :  ['Anchorman']\n",
      "1  :  ['Arturo Gatti']\n",
      "1  :  ['Babylonians']\n",
      "2  :  ['Barkley', 'Ryan (\"Faith Hilling\")']\n",
      "3  :  ['Barry Bonds', 'Mark McGwire', 'Jason Giambi']\n",
      "1  :  ['Beach Family (\"Insecurity\")']\n",
      "1  :  ['Benny Hill']\n",
      "1  :  [\"Blockbuster Employee's Ghost\"]\n",
      "1  :  ['Blonde-Haired Girl (\"Erection Day\")']\n",
      "1  :  ['Bob Saget']\n",
      "1  :  ['Bob Thomas']\n",
      "1  :  ['Boy in Finn Costume']\n",
      "1  :  ['Boy with Brown Hair and Red Shirt']\n",
      "1  :  ['Boy with Dark Green Shirt and Glasses']\n",
      "1  :  ['Boy with Earmuffs']\n",
      "2  :  ['Brad Morgan', 'Christina Nylon']\n",
      "1  :  ['Brian Thompson-Jarvis']\n",
      "1  :  ['Bubb Rubb']\n",
      "1  :  ['Cajun Shrimp Merchant']\n",
      "1  :  ['Canadian Banker']\n",
      "1  :  ['Canadian Barking Spider']\n",
      "1  :  ['Cee Lo Green']\n",
      "3  :  ['Chief Runs With Premise', 'Premise Running Thin', \"Chief Runs With Premise's Wife\"]\n",
      "1  :  ['Chiquita']\n",
      "2  :  ['Clark', 'Laura']\n",
      "1  :  ['Colette Francis']\n",
      "1  :  ['Crippled Girl with Brown Hair']\n",
      "1  :  ['Dave Beckett']\n",
      "1  :  ['David Satcher']\n",
      "1  :  ['Dennis']\n",
      "1  :  ['Derek Smalls']\n",
      "3  :  ['Jimmy Stewart', 'Lionel Barrymore', 'Donna Reed']\n",
      "1  :  ['Felipe Calderón']\n",
      "2  :  ['Scrambles (\"Cock Magic\")', 'Fluffy (\"Cock Magic\")']\n",
      "1  :  ['Frida']\n",
      "1  :  ['Gary Coleman']\n",
      "1  :  ['Gary Nelson']\n",
      "1  :  ['Gelgameks']\n",
      "2  :  ['Ginger Hallway Monitors', 'Nazi Zombie Hallway Monitors']\n",
      "2  :  ['Larry David', 'Gwyneth Paltrow']\n",
      "1  :  ['Han Seung-soo']\n",
      "1  :  ['Handicapped Boy with Blue Jumpsuit']\n",
      "1  :  ['Hu Jintao']\n",
      "2  :  ['IHOP Customer', 'Sarah']\n",
      "1  :  ['India Manufacturing Inc. Workers']\n",
      "1  :  ['James Taylor']\n",
      "1  :  ['Janis Joplin']\n",
      "1  :  ['Japanese']\n",
      "1  :  ['Jerry Sanders']\n",
      "1  :  ['Jim Brown-ish']\n",
      "1  :  ['John Howard']\n",
      "1  :  ['John Walsh']\n",
      "1  :  ['Kansas City Chiefs']\n",
      "3  :  ['Lonelygirl15', 'The Back Dorm Boys', 'Laughing Baby']\n",
      "1  :  ['Les Paul']\n",
      "1  :  ['Lolly the Candy Man']\n",
      "1  :  ['Mailman']\n",
      "1  :  ['Mao Zedong']\n",
      "1  :  ['Marilyn Manson']\n",
      "1  :  ['Martha Stewart']\n",
      "1  :  ['Meat Loaf']\n",
      "1  :  ['Miami Dolphins']\n",
      "2  :  [\"Michelle's Husband\", 'Michelle']\n",
      "1  :  ['Mick Jagger']\n",
      "1  :  ['Mutant Bacteria']\n",
      "1  :  ['Nazi Zombie Fetuses']\n",
      "1  :  ['New York Girl']\n",
      "1  :  ['Nick Nolte']\n",
      "1  :  ['Officer Adams']\n",
      "1  :  ['Officer Foley']\n",
      "1  :  [\"Pat O'Brien\"]\n",
      "1  :  ['Philip Glass']\n",
      "1  :  ['Queen Elizabeth II']\n",
      "1  :  ['Raila Odinga']\n",
      "1  :  ['Recess Supervisor']\n",
      "1  :  ['Red Harris']\n",
      "1  :  ['Reese Witherspoon']\n",
      "1  :  ['Rick (\"Black Friday\")']\n",
      "1  :  ['Samaritans']\n",
      "1  :  ['Schroeder']\n",
      "1  :  ['Scott Evans']\n",
      "1  :  ['Shinzo Abe']\n",
      "1  :  ['Silvio Berlusconi']\n",
      "1  :  ['South Park Express Conductor']\n",
      "1  :  ['Steve McNair']\n",
      "1  :  ['Stu']\n",
      "1  :  ['Stupid Spoiled Whore Teenage Girls']\n",
      "1  :  ['Supply Max Clerk']\n",
      "1  :  ['Suzette']\n",
      "1  :  ['Teenager Girl with Blue Hood']\n",
      "1  :  ['Teenager Girl with Orange Hair and Green Shirt']\n",
      "1  :  ['Teenager Girl with Violet Shirt']\n",
      "1  :  ['Tiny Tim']\n",
      "2  :  ['Tommy (\"Faith Hilling\")', \"Tommy's Girlfriend\"]\n",
      "1  :  ['Tommy Fritz']\n",
      "1  :  ['Toto']\n",
      "1  :  ['Vladimir Stolfsky']\n",
      "1  :  ['Wario']\n",
      "1  :  ['Wayne D']\n",
      "1  :  ['Ween']\n",
      "1  :  ['Whoopi Goldberg']\n",
      "1  :  ['Wild Dogs']\n",
      "1  :  ['Xenu']\n",
      "1  :  ['24-Hour Clerks']\n"
     ]
    }
   ],
   "source": [
    "# See who are in the weakly connected components\n",
    "i=0\n",
    "for el in G_weak:\n",
    "    if i==0:\n",
    "        print(len(el))\n",
    "    else:\n",
    "        print(len(el), ' : ', list(el))        \n",
    "    i+=1"
   ]
  },
  {
   "cell_type": "markdown",
   "id": "8edb03e7",
   "metadata": {},
   "source": [
    "The characters in the small clusters (or alone) are characters that are not connected to the main cahracters. Some are refereed, as presenters, mailman, etc. So we can remove them."
   ]
  },
  {
   "cell_type": "code",
   "execution_count": 103,
   "id": "8aa504a0",
   "metadata": {},
   "outputs": [],
   "source": [
    "largest_cc = max(nx.weakly_connected_components(G), key=len)\n",
    "G_weakly_con = G.subgraph(list(largest_cc))"
   ]
  },
  {
   "cell_type": "code",
   "execution_count": 106,
   "id": "a60d4e80",
   "metadata": {},
   "outputs": [
    {
     "name": "stdout",
     "output_type": "stream",
     "text": [
      "Number of nodes in max weakly connected subgraph: 1933\n",
      "Number of edges in max weakly connected subgraph: 12966\n"
     ]
    }
   ],
   "source": [
    "print(f\"Number of nodes in max weakly connected subgraph: {len(list(G_weakly_con.nodes))}\")\n",
    "print(f\"Number of edges in max weakly connected subgraph: {len(list(G_weakly_con.edges))}\")"
   ]
  },
  {
   "cell_type": "code",
   "execution_count": null,
   "id": "e0a2b8a7",
   "metadata": {},
   "outputs": [],
   "source": []
  }
 ],
 "metadata": {
  "kernelspec": {
   "display_name": "Python 3 (ipykernel)",
   "language": "python",
   "name": "python3"
  },
  "language_info": {
   "codemirror_mode": {
    "name": "ipython",
    "version": 3
   },
   "file_extension": ".py",
   "mimetype": "text/x-python",
   "name": "python",
   "nbconvert_exporter": "python",
   "pygments_lexer": "ipython3",
   "version": "3.9.12"
  }
 },
 "nbformat": 4,
 "nbformat_minor": 5
}
